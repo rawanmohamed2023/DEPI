{
 "cells": [
  {
   "cell_type": "markdown",
   "id": "d673832d-40c8-46cb-9683-b1db250266e9",
   "metadata": {},
   "source": [
    "<center>\n",
    "    <img src=\"https://cf-courses-data.s3.us.cloud-object-storage.appdomain.cloud/assets/logos/SN_web_lightmode.png\" width=\"300\" alt=\"cognitiveclass.ai logo\">\n",
    "</center>\n",
    "\n",
    "# Hands-on Lab: API Examples\n",
    "## Random User and Fruityvice API Examples\n",
    "\n",
    "\n",
    "Estimated time needed: **30** minutes\n",
    "\n",
    "## Objectives\n",
    "\n",
    "After completing this lab you will be able to:\n",
    "\n",
    "*   Load and use RandomUser API, using `RandomUser()` Python library\n",
    "*   Load and use Fruityvice API, using `requests` Python library\n",
    "*   Load and use Open-Joke-API, using `requests` Python library\n",
    "\n"
   ]
  },
  {
   "cell_type": "markdown",
   "id": "eddbcea0-12ec-4e02-846a-0df784b7c08e",
   "metadata": {},
   "source": [
    "The purpose of this notebook is to provide more examples on how to use simple APIs. As you have already learned from previous videos and notebooks, API stands for Application Programming Interface and is a software intermediary that allows two applications to talk to each other. \n",
    "\n",
    "The advantages of using APIs:\n",
    " *   **Automation**. Less human effort is required and workflows can be easily updated to become faster and more      \n",
    "     productive.\n",
    " *   **Efficiency**. It allows to use the capabilities of one of the already developed APIs than to try to \n",
    "     independently implement some functionality from scratch.\n",
    " \n",
    "The disadvantage of using APIs:\n",
    " *   **Security**. If the API is poorly integrated, it means it will be vulnerable to attacks, resulting in data breeches or losses having financial or reputation implications.\n",
    "\n",
    "One of the applications we will use in this notebook is Random User Generator. RandomUser is an open-source, free API providing developers with randomly generated users to be used as placeholders for testing purposes. This makes the tool similar to Lorem Ipsum, but is a placeholder for people instead of text. The API can return multiple results, as well as specify generated user details such as gender, email, image, username, address, title, first and last name, and more. More information on [RandomUser](https://randomuser.me/documentation#intro) can be found here.\n",
    "\n",
    "Another example of simple API we will use in this notebook is Fruityvice application. The Fruityvice API web service which provides data for all kinds of fruit! You can use Fruityvice to find out interesting information about fruit and educate yourself. The web service is completely free to use and contribute to.\n"
   ]
  },
  {
   "cell_type": "markdown",
   "id": "d26aeb0e-45f6-47a9-a87d-5f992a240df7",
   "metadata": {},
   "source": [
    "## Example 1: RandomUser API\n",
    "Bellow are Get Methods parameters that we can generate. For more information on the parameters, please visit this [documentation](https://randomuser.me/documentation) page.\n"
   ]
  },
  {
   "cell_type": "markdown",
   "id": "65f143b3-c39e-41b3-9373-9cf3cabc28a8",
   "metadata": {},
   "source": [
    "## **Get Methods**\n",
    "\n",
    "- get_cell()\n",
    "- get_city()\n",
    "- get_dob()\n",
    "- get_email()\n",
    "- get_first_name()\n",
    "- get_full_name()\n",
    "- get_gender()\n",
    "- get_id()\n",
    "- get_id_number()\n",
    "- get_id_type()\n",
    "- get_info()\n",
    "- get_last_name()\n",
    "- get_login_md5()\n",
    "- get_login_salt()\n",
    "- get_login_sha1()\n",
    "- get_login_sha256()\n",
    "- get_nat()\n",
    "- get_password()\n",
    "- get_phone()\n",
    "- get_picture()\n",
    "- get_postcode()\n",
    "- get_registered()\n",
    "- get_state()\n",
    "- get_street()\n",
    "- get_username()\n",
    "- get_zipcode()\n"
   ]
  },
  {
   "cell_type": "markdown",
   "id": "05a0dbcb-3476-4668-a147-dfe09c7435fb",
   "metadata": {},
   "source": [
    "To start using the API you can install the `randomuser` library running the `pip install` command.\n"
   ]
  },
  {
   "cell_type": "code",
   "execution_count": 2,
   "id": "03dd3677-d35e-4846-85dc-ef2e9550d06e",
   "metadata": {},
   "outputs": [
    {
     "name": "stdout",
     "output_type": "stream",
     "text": [
      "Collecting randomuser\n",
      "  Downloading randomuser-1.6.tar.gz (5.0 kB)\n",
      "  Installing build dependencies: started\n",
      "  Installing build dependencies: finished with status 'done'\n",
      "  Getting requirements to build wheel: started\n",
      "  Getting requirements to build wheel: finished with status 'done'\n",
      "  Preparing metadata (pyproject.toml): started\n",
      "  Preparing metadata (pyproject.toml): finished with status 'done'\n",
      "Building wheels for collected packages: randomuser\n",
      "  Building wheel for randomuser (pyproject.toml): started\n",
      "  Building wheel for randomuser (pyproject.toml): finished with status 'done'\n",
      "  Created wheel for randomuser: filename=randomuser-1.6-py3-none-any.whl size=5088 sha256=cf483a6e72a8094700e2c218341886eb8cdaba0f7cb8895e399a894d42136821\n",
      "  Stored in directory: c:\\users\\user\\appdata\\local\\pip\\cache\\wheels\\a8\\ce\\f1\\713605b6f257e4f0efca0fe272df8e2427bd335cf907ab0dff\n",
      "Successfully built randomuser\n",
      "Installing collected packages: randomuser\n",
      "Successfully installed randomuser-1.6\n"
     ]
    }
   ],
   "source": [
    "!pip install randomuser"
   ]
  },
  {
   "cell_type": "markdown",
   "id": "d5cc2fd3-665a-4164-8356-4304ae173001",
   "metadata": {},
   "source": [
    "Then, we will load the necessary libraries.\n"
   ]
  },
  {
   "cell_type": "code",
   "execution_count": 3,
   "id": "eb68b72c-5144-4104-9ad1-940942b583f9",
   "metadata": {},
   "outputs": [],
   "source": [
    "from randomuser import RandomUser\n",
    "import pandas as pd"
   ]
  },
  {
   "cell_type": "markdown",
   "id": "9a733d33-7f47-41cc-a3b6-bd3299fa953c",
   "metadata": {},
   "source": [
    "First, we will create a random user object, r.\n"
   ]
  },
  {
   "cell_type": "code",
   "execution_count": 4,
   "id": "702ae6dc-25f5-491d-817a-e880a26d9277",
   "metadata": {},
   "outputs": [],
   "source": [
    "r = RandomUser()"
   ]
  },
  {
   "cell_type": "markdown",
   "id": "4dc3adf0-64cd-4103-8c0f-cd0461cc18fb",
   "metadata": {},
   "source": [
    "Then, using `generate_users()` function, we get a list of random 10 users.\n"
   ]
  },
  {
   "cell_type": "code",
   "execution_count": 5,
   "id": "7fb687bc-07f8-421e-8ac1-7ecc88116312",
   "metadata": {},
   "outputs": [],
   "source": [
    "some_list = r.generate_users(10)"
   ]
  },
  {
   "cell_type": "code",
   "execution_count": 6,
   "id": "87ba3f4a-a9ff-436d-91df-406802c0b645",
   "metadata": {},
   "outputs": [
    {
     "data": {
      "text/plain": [
       "[<randomuser.RandomUser at 0x1da9b649bd0>,\n",
       " <randomuser.RandomUser at 0x1da9b64a210>,\n",
       " <randomuser.RandomUser at 0x1da9a157bb0>,\n",
       " <randomuser.RandomUser at 0x1da9b606ea0>,\n",
       " <randomuser.RandomUser at 0x1da9a76c290>,\n",
       " <randomuser.RandomUser at 0x1da9c690380>,\n",
       " <randomuser.RandomUser at 0x1da9c6905a0>,\n",
       " <randomuser.RandomUser at 0x1da9b656050>,\n",
       " <randomuser.RandomUser at 0x1da9b656150>,\n",
       " <randomuser.RandomUser at 0x1da9a759130>]"
      ]
     },
     "execution_count": 6,
     "metadata": {},
     "output_type": "execute_result"
    }
   ],
   "source": [
    "some_list"
   ]
  },
  {
   "cell_type": "markdown",
   "id": "ce1a40c2-47ef-482d-81f3-842a4fa07d11",
   "metadata": {},
   "source": [
    "The **\"Get Methods\"** functions mentioned at the beginning of this notebook, can generate the required parameters to construct a dataset. For example, to get full name, we call `get_full_name()` function.\n"
   ]
  },
  {
   "cell_type": "code",
   "execution_count": 7,
   "id": "0ea13295-e923-4b5b-9647-cbe05f501821",
   "metadata": {},
   "outputs": [],
   "source": [
    "name = r.get_full_name()"
   ]
  },
  {
   "cell_type": "markdown",
   "id": "d22c29ec-fa87-4a7a-9e8a-8bfff09c7a8c",
   "metadata": {},
   "source": [
    "Let's say we only need 10 users with full names and their email addresses. We can write a \"for-loop\" to print these 10 users.\n"
   ]
  },
  {
   "cell_type": "code",
   "execution_count": 8,
   "id": "32d52bf2-b739-4622-babe-258644f70da8",
   "metadata": {},
   "outputs": [
    {
     "name": "stdout",
     "output_type": "stream",
     "text": [
      "Rachel Thompson   rachel.thompson@example.com\n",
      "Gianni Pierre   gianni.pierre@example.com\n",
      "Kevin Chambers   kevin.chambers@example.com\n",
      "رهام نجاتی   rhm.njty@example.com\n",
      "Marie Andersen   marie.andersen@example.com\n",
      "Manuela Santana   manuela.santana@example.com\n",
      "Hermen Mol   hermen.mol@example.com\n",
      "Eeli Polon   eeli.polon@example.com\n",
      "Aiden Harris   aiden.harris@example.com\n",
      "Ines Velasco   ines.velasco@example.com\n"
     ]
    }
   ],
   "source": [
    "for user in some_list:\n",
    "    print (user.get_full_name(),\" \",user.get_email())"
   ]
  },
  {
   "cell_type": "markdown",
   "id": "da02b524-824b-4d10-98d9-88ff28d60b91",
   "metadata": {},
   "source": [
    "## Exercise 1\n",
    "In this Exercise, generate photos of the random 10 users.\n"
   ]
  },
  {
   "cell_type": "code",
   "execution_count": 9,
   "id": "185af63b-bd55-4d45-ae0f-cf03739c3cb4",
   "metadata": {},
   "outputs": [
    {
     "name": "stdout",
     "output_type": "stream",
     "text": [
      "https://randomuser.me/api/portraits/women/15.jpg\n",
      "https://randomuser.me/api/portraits/men/42.jpg\n",
      "https://randomuser.me/api/portraits/men/50.jpg\n",
      "https://randomuser.me/api/portraits/men/75.jpg\n",
      "https://randomuser.me/api/portraits/women/65.jpg\n",
      "https://randomuser.me/api/portraits/women/42.jpg\n",
      "https://randomuser.me/api/portraits/men/6.jpg\n",
      "https://randomuser.me/api/portraits/men/21.jpg\n",
      "https://randomuser.me/api/portraits/men/76.jpg\n",
      "https://randomuser.me/api/portraits/women/92.jpg\n"
     ]
    }
   ],
   "source": [
    "## Write your code here\n",
    "for user in some_list:\n",
    "    print (user.get_picture())"
   ]
  },
  {
   "cell_type": "markdown",
   "id": "c18e3695-5c47-4c51-b707-4771ca11ccaf",
   "metadata": {},
   "source": [
    "<details><summary>Click here for the solution</summary>\n",
    "\n",
    "```python\n",
    "for user in some_list:\n",
    "    print (user.get_picture())\n",
    "```\n",
    "\n",
    "</details>\n"
   ]
  },
  {
   "cell_type": "markdown",
   "id": "9d56ec89-0804-4747-9a3c-cd12590f0407",
   "metadata": {},
   "source": [
    "To generate a table with information about the users, we can write a function containing all desirable parameters. For example, name, gender, city, etc. The parameters will depend on the requirements of the test to be performed. We call the Get Methods, listed at the beginning of this notebook. Then, we return pandas dataframe with the users.\n"
   ]
  },
  {
   "cell_type": "code",
   "execution_count": 10,
   "id": "00221c66-9346-40ec-a093-18385112a0cd",
   "metadata": {},
   "outputs": [],
   "source": [
    "def get_users():\n",
    "    users =[]\n",
    "     \n",
    "    for user in RandomUser.generate_users(10):\n",
    "        users.append({\"Name\":user.get_full_name(),\"Gender\":user.get_gender(),\"City\":user.get_city(),\"State\":user.get_state(),\"Email\":user.get_email(), \"DOB\":user.get_dob(),\"Picture\":user.get_picture()})\n",
    "      \n",
    "    return pd.DataFrame(users)     "
   ]
  },
  {
   "cell_type": "code",
   "execution_count": 11,
   "id": "f247afd7-8264-4ba4-a897-3bb3406cd082",
   "metadata": {},
   "outputs": [
    {
     "data": {
      "text/html": [
       "<div>\n",
       "<style scoped>\n",
       "    .dataframe tbody tr th:only-of-type {\n",
       "        vertical-align: middle;\n",
       "    }\n",
       "\n",
       "    .dataframe tbody tr th {\n",
       "        vertical-align: top;\n",
       "    }\n",
       "\n",
       "    .dataframe thead th {\n",
       "        text-align: right;\n",
       "    }\n",
       "</style>\n",
       "<table border=\"1\" class=\"dataframe\">\n",
       "  <thead>\n",
       "    <tr style=\"text-align: right;\">\n",
       "      <th></th>\n",
       "      <th>Name</th>\n",
       "      <th>Gender</th>\n",
       "      <th>City</th>\n",
       "      <th>State</th>\n",
       "      <th>Email</th>\n",
       "      <th>DOB</th>\n",
       "      <th>Picture</th>\n",
       "    </tr>\n",
       "  </thead>\n",
       "  <tbody>\n",
       "    <tr>\n",
       "      <th>0</th>\n",
       "      <td>Kati Hagedorn</td>\n",
       "      <td>female</td>\n",
       "      <td>Creglingen</td>\n",
       "      <td>Berlin</td>\n",
       "      <td>kati.hagedorn@example.com</td>\n",
       "      <td>1963-11-27T19:55:24.572Z</td>\n",
       "      <td>https://randomuser.me/api/portraits/women/70.jpg</td>\n",
       "    </tr>\n",
       "    <tr>\n",
       "      <th>1</th>\n",
       "      <td>Aubree Knight</td>\n",
       "      <td>female</td>\n",
       "      <td>Dorchester</td>\n",
       "      <td>Newfoundland and Labrador</td>\n",
       "      <td>aubree.knight@example.com</td>\n",
       "      <td>1969-07-23T00:30:12.422Z</td>\n",
       "      <td>https://randomuser.me/api/portraits/women/6.jpg</td>\n",
       "    </tr>\n",
       "    <tr>\n",
       "      <th>2</th>\n",
       "      <td>Linnea Ojala</td>\n",
       "      <td>female</td>\n",
       "      <td>Kustavi</td>\n",
       "      <td>Uusimaa</td>\n",
       "      <td>linnea.ojala@example.com</td>\n",
       "      <td>1984-11-10T14:44:07.561Z</td>\n",
       "      <td>https://randomuser.me/api/portraits/women/32.jpg</td>\n",
       "    </tr>\n",
       "    <tr>\n",
       "      <th>3</th>\n",
       "      <td>Juanita Stewart</td>\n",
       "      <td>female</td>\n",
       "      <td>Scottsdale</td>\n",
       "      <td>Arizona</td>\n",
       "      <td>juanita.stewart@example.com</td>\n",
       "      <td>1956-10-02T13:52:35.910Z</td>\n",
       "      <td>https://randomuser.me/api/portraits/women/20.jpg</td>\n",
       "    </tr>\n",
       "    <tr>\n",
       "      <th>4</th>\n",
       "      <td>Misha Van Domselaar</td>\n",
       "      <td>male</td>\n",
       "      <td>Maasland</td>\n",
       "      <td>Overijssel</td>\n",
       "      <td>misha.vandomselaar@example.com</td>\n",
       "      <td>1953-08-07T11:44:37.696Z</td>\n",
       "      <td>https://randomuser.me/api/portraits/men/66.jpg</td>\n",
       "    </tr>\n",
       "    <tr>\n",
       "      <th>5</th>\n",
       "      <td>Felix Reid</td>\n",
       "      <td>male</td>\n",
       "      <td>Ballarat</td>\n",
       "      <td>Northern Territory</td>\n",
       "      <td>felix.reid@example.com</td>\n",
       "      <td>1972-09-14T22:08:12.349Z</td>\n",
       "      <td>https://randomuser.me/api/portraits/men/6.jpg</td>\n",
       "    </tr>\n",
       "    <tr>\n",
       "      <th>6</th>\n",
       "      <td>Kübra Ertürk</td>\n",
       "      <td>female</td>\n",
       "      <td>Osmaniye</td>\n",
       "      <td>Sakarya</td>\n",
       "      <td>kubra.erturk@example.com</td>\n",
       "      <td>1986-10-10T16:57:17.386Z</td>\n",
       "      <td>https://randomuser.me/api/portraits/women/56.jpg</td>\n",
       "    </tr>\n",
       "    <tr>\n",
       "      <th>7</th>\n",
       "      <td>Lucille Morgan</td>\n",
       "      <td>female</td>\n",
       "      <td>Grand Rapids</td>\n",
       "      <td>Michigan</td>\n",
       "      <td>lucille.morgan@example.com</td>\n",
       "      <td>1959-07-24T05:03:24.852Z</td>\n",
       "      <td>https://randomuser.me/api/portraits/women/10.jpg</td>\n",
       "    </tr>\n",
       "    <tr>\n",
       "      <th>8</th>\n",
       "      <td>Ruby Williams</td>\n",
       "      <td>female</td>\n",
       "      <td>Masterton</td>\n",
       "      <td>Canterbury</td>\n",
       "      <td>ruby.williams@example.com</td>\n",
       "      <td>1969-06-03T03:42:38.361Z</td>\n",
       "      <td>https://randomuser.me/api/portraits/women/53.jpg</td>\n",
       "    </tr>\n",
       "    <tr>\n",
       "      <th>9</th>\n",
       "      <td>Engeltje Murk</td>\n",
       "      <td>female</td>\n",
       "      <td>Haarlemmerliede</td>\n",
       "      <td>Overijssel</td>\n",
       "      <td>engeltje.murk@example.com</td>\n",
       "      <td>1992-05-18T22:19:22.758Z</td>\n",
       "      <td>https://randomuser.me/api/portraits/women/53.jpg</td>\n",
       "    </tr>\n",
       "  </tbody>\n",
       "</table>\n",
       "</div>"
      ],
      "text/plain": [
       "                  Name  Gender             City                      State  \\\n",
       "0        Kati Hagedorn  female       Creglingen                     Berlin   \n",
       "1        Aubree Knight  female       Dorchester  Newfoundland and Labrador   \n",
       "2         Linnea Ojala  female          Kustavi                    Uusimaa   \n",
       "3      Juanita Stewart  female       Scottsdale                    Arizona   \n",
       "4  Misha Van Domselaar    male         Maasland                 Overijssel   \n",
       "5           Felix Reid    male         Ballarat         Northern Territory   \n",
       "6         Kübra Ertürk  female         Osmaniye                    Sakarya   \n",
       "7       Lucille Morgan  female     Grand Rapids                   Michigan   \n",
       "8        Ruby Williams  female        Masterton                 Canterbury   \n",
       "9        Engeltje Murk  female  Haarlemmerliede                 Overijssel   \n",
       "\n",
       "                            Email                       DOB  \\\n",
       "0       kati.hagedorn@example.com  1963-11-27T19:55:24.572Z   \n",
       "1       aubree.knight@example.com  1969-07-23T00:30:12.422Z   \n",
       "2        linnea.ojala@example.com  1984-11-10T14:44:07.561Z   \n",
       "3     juanita.stewart@example.com  1956-10-02T13:52:35.910Z   \n",
       "4  misha.vandomselaar@example.com  1953-08-07T11:44:37.696Z   \n",
       "5          felix.reid@example.com  1972-09-14T22:08:12.349Z   \n",
       "6        kubra.erturk@example.com  1986-10-10T16:57:17.386Z   \n",
       "7      lucille.morgan@example.com  1959-07-24T05:03:24.852Z   \n",
       "8       ruby.williams@example.com  1969-06-03T03:42:38.361Z   \n",
       "9       engeltje.murk@example.com  1992-05-18T22:19:22.758Z   \n",
       "\n",
       "                                            Picture  \n",
       "0  https://randomuser.me/api/portraits/women/70.jpg  \n",
       "1   https://randomuser.me/api/portraits/women/6.jpg  \n",
       "2  https://randomuser.me/api/portraits/women/32.jpg  \n",
       "3  https://randomuser.me/api/portraits/women/20.jpg  \n",
       "4    https://randomuser.me/api/portraits/men/66.jpg  \n",
       "5     https://randomuser.me/api/portraits/men/6.jpg  \n",
       "6  https://randomuser.me/api/portraits/women/56.jpg  \n",
       "7  https://randomuser.me/api/portraits/women/10.jpg  \n",
       "8  https://randomuser.me/api/portraits/women/53.jpg  \n",
       "9  https://randomuser.me/api/portraits/women/53.jpg  "
      ]
     },
     "execution_count": 11,
     "metadata": {},
     "output_type": "execute_result"
    }
   ],
   "source": [
    "get_users()"
   ]
  },
  {
   "cell_type": "code",
   "execution_count": 12,
   "id": "6e86e087-1fea-48d7-9772-3fbbea86d783",
   "metadata": {},
   "outputs": [],
   "source": [
    "df1 = pd.DataFrame(get_users())  "
   ]
  },
  {
   "cell_type": "markdown",
   "id": "801f8632-b3b0-455e-ba23-bb56881ab28d",
   "metadata": {},
   "source": [
    "Now we have a *pandas* dataframe that can be used for any testing purposes that the tester might have.\n"
   ]
  },
  {
   "cell_type": "markdown",
   "id": "c142e473-8541-412d-97e9-fcf9137162c9",
   "metadata": {},
   "source": [
    "## Example 2: Fruityvice API\n",
    "\n",
    "Another, more common way to use APIs, is through `requests` library. The next lab, Requests and HTTP, will contain more information about requests.\n",
    "\n",
    "We will start by importing all required libraries.\n"
   ]
  },
  {
   "cell_type": "code",
   "execution_count": 13,
   "id": "0fab7231-1595-4987-9371-3f405be38bab",
   "metadata": {},
   "outputs": [],
   "source": [
    "import requests\n",
    "import json"
   ]
  },
  {
   "cell_type": "markdown",
   "id": "84aaa532-7396-4c8f-9a47-ca59fd1c163f",
   "metadata": {},
   "source": [
    "We will obtain the [fruityvice](https://www.fruityvice.com) API data using `requests.get(\"url\")` function. The data is in a json format.\n"
   ]
  },
  {
   "cell_type": "code",
   "execution_count": 14,
   "id": "7053b9c6-62a0-41fd-9ec9-eb4b5d827adc",
   "metadata": {},
   "outputs": [],
   "source": [
    "data = requests.get(\"https://fruityvice.com/api/fruit/all\")"
   ]
  },
  {
   "cell_type": "markdown",
   "id": "6052ec70-26d8-4353-ac80-a256ad0079fd",
   "metadata": {},
   "source": [
    "We will retrieve results using `json.loads()` function.\n"
   ]
  },
  {
   "cell_type": "code",
   "execution_count": 26,
   "id": "cf72f427-a3e7-4a26-a380-3cfa6f98d6cd",
   "metadata": {},
   "outputs": [
    {
     "ename": "JSONDecodeError",
     "evalue": "Expecting value: line 1 column 1 (char 0)",
     "output_type": "error",
     "traceback": [
      "\u001b[1;31m---------------------------------------------------------------------------\u001b[0m",
      "\u001b[1;31mJSONDecodeError\u001b[0m                           Traceback (most recent call last)",
      "Cell \u001b[1;32mIn[26], line 1\u001b[0m\n\u001b[1;32m----> 1\u001b[0m results \u001b[38;5;241m=\u001b[39m \u001b[43mjson\u001b[49m\u001b[38;5;241;43m.\u001b[39;49m\u001b[43mloads\u001b[49m\u001b[43m(\u001b[49m\u001b[43mdata\u001b[49m\u001b[38;5;241;43m.\u001b[39;49m\u001b[43mtext\u001b[49m\u001b[43m)\u001b[49m\n",
      "File \u001b[1;32mc:\\Users\\User\\AppData\\Local\\Programs\\Python\\Python313\\Lib\\json\\__init__.py:346\u001b[0m, in \u001b[0;36mloads\u001b[1;34m(s, cls, object_hook, parse_float, parse_int, parse_constant, object_pairs_hook, **kw)\u001b[0m\n\u001b[0;32m    341\u001b[0m     s \u001b[38;5;241m=\u001b[39m s\u001b[38;5;241m.\u001b[39mdecode(detect_encoding(s), \u001b[38;5;124m'\u001b[39m\u001b[38;5;124msurrogatepass\u001b[39m\u001b[38;5;124m'\u001b[39m)\n\u001b[0;32m    343\u001b[0m \u001b[38;5;28;01mif\u001b[39;00m (\u001b[38;5;28mcls\u001b[39m \u001b[38;5;129;01mis\u001b[39;00m \u001b[38;5;28;01mNone\u001b[39;00m \u001b[38;5;129;01mand\u001b[39;00m object_hook \u001b[38;5;129;01mis\u001b[39;00m \u001b[38;5;28;01mNone\u001b[39;00m \u001b[38;5;129;01mand\u001b[39;00m\n\u001b[0;32m    344\u001b[0m         parse_int \u001b[38;5;129;01mis\u001b[39;00m \u001b[38;5;28;01mNone\u001b[39;00m \u001b[38;5;129;01mand\u001b[39;00m parse_float \u001b[38;5;129;01mis\u001b[39;00m \u001b[38;5;28;01mNone\u001b[39;00m \u001b[38;5;129;01mand\u001b[39;00m\n\u001b[0;32m    345\u001b[0m         parse_constant \u001b[38;5;129;01mis\u001b[39;00m \u001b[38;5;28;01mNone\u001b[39;00m \u001b[38;5;129;01mand\u001b[39;00m object_pairs_hook \u001b[38;5;129;01mis\u001b[39;00m \u001b[38;5;28;01mNone\u001b[39;00m \u001b[38;5;129;01mand\u001b[39;00m \u001b[38;5;129;01mnot\u001b[39;00m kw):\n\u001b[1;32m--> 346\u001b[0m     \u001b[38;5;28;01mreturn\u001b[39;00m \u001b[43m_default_decoder\u001b[49m\u001b[38;5;241;43m.\u001b[39;49m\u001b[43mdecode\u001b[49m\u001b[43m(\u001b[49m\u001b[43ms\u001b[49m\u001b[43m)\u001b[49m\n\u001b[0;32m    347\u001b[0m \u001b[38;5;28;01mif\u001b[39;00m \u001b[38;5;28mcls\u001b[39m \u001b[38;5;129;01mis\u001b[39;00m \u001b[38;5;28;01mNone\u001b[39;00m:\n\u001b[0;32m    348\u001b[0m     \u001b[38;5;28mcls\u001b[39m \u001b[38;5;241m=\u001b[39m JSONDecoder\n",
      "File \u001b[1;32mc:\\Users\\User\\AppData\\Local\\Programs\\Python\\Python313\\Lib\\json\\decoder.py:344\u001b[0m, in \u001b[0;36mJSONDecoder.decode\u001b[1;34m(self, s, _w)\u001b[0m\n\u001b[0;32m    339\u001b[0m \u001b[38;5;28;01mdef\u001b[39;00m \u001b[38;5;21mdecode\u001b[39m(\u001b[38;5;28mself\u001b[39m, s, _w\u001b[38;5;241m=\u001b[39mWHITESPACE\u001b[38;5;241m.\u001b[39mmatch):\n\u001b[0;32m    340\u001b[0m \u001b[38;5;250m    \u001b[39m\u001b[38;5;124;03m\"\"\"Return the Python representation of ``s`` (a ``str`` instance\u001b[39;00m\n\u001b[0;32m    341\u001b[0m \u001b[38;5;124;03m    containing a JSON document).\u001b[39;00m\n\u001b[0;32m    342\u001b[0m \n\u001b[0;32m    343\u001b[0m \u001b[38;5;124;03m    \"\"\"\u001b[39;00m\n\u001b[1;32m--> 344\u001b[0m     obj, end \u001b[38;5;241m=\u001b[39m \u001b[38;5;28;43mself\u001b[39;49m\u001b[38;5;241;43m.\u001b[39;49m\u001b[43mraw_decode\u001b[49m\u001b[43m(\u001b[49m\u001b[43ms\u001b[49m\u001b[43m,\u001b[49m\u001b[43m \u001b[49m\u001b[43midx\u001b[49m\u001b[38;5;241;43m=\u001b[39;49m\u001b[43m_w\u001b[49m\u001b[43m(\u001b[49m\u001b[43ms\u001b[49m\u001b[43m,\u001b[49m\u001b[43m \u001b[49m\u001b[38;5;241;43m0\u001b[39;49m\u001b[43m)\u001b[49m\u001b[38;5;241;43m.\u001b[39;49m\u001b[43mend\u001b[49m\u001b[43m(\u001b[49m\u001b[43m)\u001b[49m\u001b[43m)\u001b[49m\n\u001b[0;32m    345\u001b[0m     end \u001b[38;5;241m=\u001b[39m _w(s, end)\u001b[38;5;241m.\u001b[39mend()\n\u001b[0;32m    346\u001b[0m     \u001b[38;5;28;01mif\u001b[39;00m end \u001b[38;5;241m!=\u001b[39m \u001b[38;5;28mlen\u001b[39m(s):\n",
      "File \u001b[1;32mc:\\Users\\User\\AppData\\Local\\Programs\\Python\\Python313\\Lib\\json\\decoder.py:362\u001b[0m, in \u001b[0;36mJSONDecoder.raw_decode\u001b[1;34m(self, s, idx)\u001b[0m\n\u001b[0;32m    360\u001b[0m     obj, end \u001b[38;5;241m=\u001b[39m \u001b[38;5;28mself\u001b[39m\u001b[38;5;241m.\u001b[39mscan_once(s, idx)\n\u001b[0;32m    361\u001b[0m \u001b[38;5;28;01mexcept\u001b[39;00m \u001b[38;5;167;01mStopIteration\u001b[39;00m \u001b[38;5;28;01mas\u001b[39;00m err:\n\u001b[1;32m--> 362\u001b[0m     \u001b[38;5;28;01mraise\u001b[39;00m JSONDecodeError(\u001b[38;5;124m\"\u001b[39m\u001b[38;5;124mExpecting value\u001b[39m\u001b[38;5;124m\"\u001b[39m, s, err\u001b[38;5;241m.\u001b[39mvalue) \u001b[38;5;28;01mfrom\u001b[39;00m \u001b[38;5;28;01mNone\u001b[39;00m\n\u001b[0;32m    363\u001b[0m \u001b[38;5;28;01mreturn\u001b[39;00m obj, end\n",
      "\u001b[1;31mJSONDecodeError\u001b[0m: Expecting value: line 1 column 1 (char 0)"
     ]
    }
   ],
   "source": [
    "results = json.loads(data.text)"
   ]
  },
  {
   "cell_type": "code",
   "execution_count": 20,
   "metadata": {},
   "outputs": [
    {
     "name": "stdout",
     "output_type": "stream",
     "text": [
      "text/html\n",
      "502\n"
     ]
    }
   ],
   "source": [
    "print(data.headers['Content-Type']) \n",
    "print(data.status_code)"
   ]
  },
  {
   "cell_type": "markdown",
   "id": "9428e0b5-4eac-4b55-80fa-352fbdfbd887",
   "metadata": {},
   "source": [
    "We will convert our json data into *pandas* data frame. \n"
   ]
  },
  {
   "cell_type": "code",
   "execution_count": 21,
   "metadata": {},
   "outputs": [
    {
     "name": "stdout",
     "output_type": "stream",
     "text": [
      "Error decoding JSON: Expecting value: line 1 column 1 (char 0)\n"
     ]
    }
   ],
   "source": [
    "try:\n",
    "    results = data.json()  # Automatically decodes JSON\n",
    "except ValueError as e:\n",
    "    print(\"Error decoding JSON:\", e)"
   ]
  },
  {
   "cell_type": "code",
   "execution_count": null,
   "id": "95a814d1-d830-439f-85c8-a266ecacdf46",
   "metadata": {},
   "outputs": [],
   "source": [
    "pd.DataFrame(results)"
   ]
  },
  {
   "cell_type": "markdown",
   "id": "c42000a0-c4a4-414a-bb75-38eb4c582f7e",
   "metadata": {},
   "source": [
    "The result is in a nested json format. The 'nutrition' column contains multiple subcolumns, so the data needs to be 'flattened' or normalized.\n"
   ]
  },
  {
   "cell_type": "code",
   "execution_count": null,
   "id": "9aee3a41-b079-4717-83b5-eacaec453d54",
   "metadata": {},
   "outputs": [],
   "source": [
    "df2 = pd.json_normalize(results)"
   ]
  },
  {
   "cell_type": "code",
   "execution_count": null,
   "id": "f0c14769-091f-43c1-94b5-1b6453d0d239",
   "metadata": {},
   "outputs": [],
   "source": [
    "df2"
   ]
  },
  {
   "cell_type": "markdown",
   "id": "bf762cc4-51a3-4531-8d0a-9af6a56c03f8",
   "metadata": {},
   "source": [
    "Let's see if we can extract some information from this dataframe. Perhaps, we need to know the family and genus of a cherry.\n"
   ]
  },
  {
   "cell_type": "code",
   "execution_count": null,
   "id": "660d98e6-2e39-4529-9d4b-101a910e2c78",
   "metadata": {},
   "outputs": [],
   "source": [
    "cherry = df2.loc[df2[\"name\"] == 'Cherry']\n",
    "(cherry.iloc[0]['family']) , (cherry.iloc[0]['genus'])"
   ]
  },
  {
   "cell_type": "markdown",
   "id": "602737fd-1d4f-4f55-abf6-82d1ef8d7e9d",
   "metadata": {},
   "source": [
    "## Exercise 2\n",
    "In this Exercise, find out how many calories are contained in a banana.\n"
   ]
  },
  {
   "cell_type": "code",
   "execution_count": 16,
   "id": "7d8fceb0-e213-499b-9911-38f84a27fa37",
   "metadata": {},
   "outputs": [
    {
     "ename": "NameError",
     "evalue": "name 'df2' is not defined",
     "output_type": "error",
     "traceback": [
      "\u001b[1;31m---------------------------------------------------------------------------\u001b[0m",
      "\u001b[1;31mNameError\u001b[0m                                 Traceback (most recent call last)",
      "Cell \u001b[1;32mIn[16], line 2\u001b[0m\n\u001b[0;32m      1\u001b[0m \u001b[38;5;66;03m# Write your code here\u001b[39;00m\n\u001b[1;32m----> 2\u001b[0m cal_banana \u001b[38;5;241m=\u001b[39m \u001b[43mdf2\u001b[49m\u001b[38;5;241m.\u001b[39mloc[df2[\u001b[38;5;124m\"\u001b[39m\u001b[38;5;124mname\u001b[39m\u001b[38;5;124m\"\u001b[39m] \u001b[38;5;241m==\u001b[39m \u001b[38;5;124m'\u001b[39m\u001b[38;5;124mBanana\u001b[39m\u001b[38;5;124m'\u001b[39m]\n\u001b[0;32m      3\u001b[0m cal_banana\u001b[38;5;241m.\u001b[39miloc[\u001b[38;5;241m0\u001b[39m][\u001b[38;5;124m'\u001b[39m\u001b[38;5;124mnutritions.calories\u001b[39m\u001b[38;5;124m'\u001b[39m]\n",
      "\u001b[1;31mNameError\u001b[0m: name 'df2' is not defined"
     ]
    }
   ],
   "source": [
    "# Write your code here\n",
    "cal_banana = df2.loc[df2[\"name\"] == 'Banana']\n",
    "cal_banana.iloc[0]['nutritions.calories']"
   ]
  },
  {
   "cell_type": "markdown",
   "id": "322fe91e-b8b8-45cb-96cf-de985f2c28e3",
   "metadata": {},
   "source": [
    "<details><summary>Click here for the solution</summary>\n",
    "\n",
    "```python\n",
    "cal_banana = df2.loc[df2[\"name\"] == 'Banana']\n",
    "cal_banana.iloc[0]['nutritions.calories']\n",
    "```\n",
    "\n",
    "</details>\n"
   ]
  },
  {
   "cell_type": "markdown",
   "id": "edd4a007-06e0-40bf-9a55-98f8c7bf31c0",
   "metadata": {},
   "source": [
    "## Exercise 3\n",
    "\n",
    "This [page](https://mixedanalytics.com/blog/list-actually-free-open-no-auth-needed-apis/) contains a list of free public APIs for you to practice. Let us deal with the following example.\n",
    "\n",
    "#### Official Joke API \n",
    "This API returns random jokes from a database. The following URL can be used to retrieve 10 random jokes.\n",
    "\n",
    "https://official-joke-api.appspot.com/jokes/ten\n",
    "\n",
    "1. Using `requests.get(\"url\")` function, load the data from the URL.\n"
   ]
  },
  {
   "cell_type": "code",
   "execution_count": null,
   "id": "a2cf8c3a-6d3b-4bc8-bb26-caa402e87e7d",
   "metadata": {},
   "outputs": [],
   "source": [
    "# Write your code here\n",
    "data2 = requests.get(\"https://official-joke-api.appspot.com/jokes/ten\")\n"
   ]
  },
  {
   "cell_type": "markdown",
   "id": "e78e58bd-fabc-468a-aed5-8177ab4c3571",
   "metadata": {},
   "source": [
    "<details><summary>Click here for the solution</summary>\n",
    "\n",
    "```python\n",
    "data2 = requests.get(\"https://official-joke-api.appspot.com/jokes/ten\")\n",
    "```\n",
    "\n",
    "</details>\n"
   ]
  },
  {
   "cell_type": "markdown",
   "id": "f66559c1-3b10-4b47-b6fd-670873514837",
   "metadata": {},
   "source": [
    "2. Retrieve results using `json.loads()` function.\n"
   ]
  },
  {
   "cell_type": "code",
   "execution_count": null,
   "id": "08da44dc-2543-4eb6-9d25-c4cdedc54848",
   "metadata": {},
   "outputs": [],
   "source": [
    "# Write your code here\n",
    "results2 = json.loads(data2.text)"
   ]
  },
  {
   "cell_type": "markdown",
   "id": "4062641e-2b8d-4a14-bfe7-d7dea2133187",
   "metadata": {},
   "source": [
    "<details><summary>Click here for the solution</summary>\n",
    "\n",
    "```python\n",
    "results2 = json.loads(data2.text)\n",
    "```\n",
    "\n",
    "</details>\n"
   ]
  },
  {
   "cell_type": "markdown",
   "id": "51f2a639-5e1c-4313-bbf7-ea9132ed6c07",
   "metadata": {},
   "source": [
    "3. Convert json data into *pandas* data frame. Drop the type and id columns.\n"
   ]
  },
  {
   "cell_type": "code",
   "execution_count": null,
   "id": "568bda9e-5f41-4ac3-a203-480c91bbdf73",
   "metadata": {},
   "outputs": [],
   "source": [
    "# Write your code here\n",
    "df3 = pd.DataFrame(results2)\n",
    "df3.drop(columns=[\"type\",\"id\"],inplace=True)\n",
    "df3"
   ]
  },
  {
   "cell_type": "markdown",
   "id": "a1c0dc3d-1a0d-468d-9472-b1a86d1bb230",
   "metadata": {},
   "source": [
    "<details><summary>Click here for the solution</summary>\n",
    "\n",
    "```python\n",
    "df3 = pd.DataFrame(results2)\n",
    "df3.drop(columns=[\"type\",\"id\"],inplace=True)\n",
    "df3\n",
    "```\n",
    "\n",
    "</details>\n"
   ]
  },
  {
   "cell_type": "markdown",
   "id": "d18fa720-1e4f-412c-83b4-ca09da2266d0",
   "metadata": {},
   "source": [
    "# Congratulations! - You have completed the lab\n"
   ]
  },
  {
   "cell_type": "markdown",
   "id": "4d2cbd08-2095-4ee5-9ebe-487702a907aa",
   "metadata": {},
   "source": [
    "## Author\n",
    "<a href=\"https://www.linkedin.com/in/svitlana-kramar\" target=\"_blank\">Svitlana Kramar</a>\n",
    "\n",
    "Svitlana is a master’s degree Data Science and Analytics student at University of Calgary, who enjoys travelling, learning new languages and cultures and loves spreading her passion for Data Science.\n",
    "\n",
    "## Additional Contributor\n",
    "<a href=\"https://www.linkedin.com/in/abhishek-gagneja-23051987/\" target=\"_blank\">Abhishek Gagneja</a>\n"
   ]
  },
  {
   "cell_type": "markdown",
   "id": "3ac85d1f-a634-40ab-843f-1fc98c2e65eb",
   "metadata": {},
   "source": [
    "Copyright © 2023 IBM Corporation. All rights reserved.\n"
   ]
  }
 ],
 "metadata": {
  "kernelspec": {
   "display_name": "Python 3",
   "language": "python",
   "name": "python3"
  },
  "language_info": {
   "codemirror_mode": {
    "name": "ipython",
    "version": 3
   },
   "file_extension": ".py",
   "mimetype": "text/x-python",
   "name": "python",
   "nbconvert_exporter": "python",
   "pygments_lexer": "ipython3",
   "version": "3.13.0"
  }
 },
 "nbformat": 4,
 "nbformat_minor": 4
}
